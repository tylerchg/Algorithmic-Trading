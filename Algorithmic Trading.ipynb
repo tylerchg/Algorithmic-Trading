{
 "cells": [
  {
   "cell_type": "markdown",
   "id": "c6e8a17a-fae8-4e8a-96cc-b53ae2737b26",
   "metadata": {},
   "source": [
    "# Unsupervised Learning Trading Strategy"
   ]
  },
  {
   "cell_type": "code",
   "execution_count": 16,
   "id": "b3ffddd9-2817-4418-b972-6e74830dcc88",
   "metadata": {},
   "outputs": [
    {
     "data": {
      "text/plain": [
       "[    Symbol              Security             GICS Sector  \\\n",
       " 0      MMM                    3M             Industrials   \n",
       " 1      AOS           A. O. Smith             Industrials   \n",
       " 2      ABT                Abbott             Health Care   \n",
       " 3     ABBV                AbbVie             Health Care   \n",
       " 4      ACN             Accenture  Information Technology   \n",
       " ..     ...                   ...                     ...   \n",
       " 498    YUM           Yum! Brands  Consumer Discretionary   \n",
       " 499   ZBRA    Zebra Technologies  Information Technology   \n",
       " 500    ZBH         Zimmer Biomet             Health Care   \n",
       " 501   ZION  Zions Bancorporation              Financials   \n",
       " 502    ZTS                Zoetis             Health Care   \n",
       " \n",
       "                       GICS Sub-Industry    Headquarters Location  Date added  \\\n",
       " 0              Industrial Conglomerates    Saint Paul, Minnesota  1957-03-04   \n",
       " 1                     Building Products     Milwaukee, Wisconsin  2017-07-26   \n",
       " 2                 Health Care Equipment  North Chicago, Illinois  1957-03-04   \n",
       " 3                         Biotechnology  North Chicago, Illinois  2012-12-31   \n",
       " 4        IT Consulting & Other Services          Dublin, Ireland  2011-07-06   \n",
       " ..                                  ...                      ...         ...   \n",
       " 498                         Restaurants     Louisville, Kentucky  1997-10-06   \n",
       " 499  Electronic Equipment & Instruments   Lincolnshire, Illinois  2019-12-23   \n",
       " 500               Health Care Equipment          Warsaw, Indiana  2001-08-07   \n",
       " 501                      Regional Banks     Salt Lake City, Utah  2001-06-22   \n",
       " 502                     Pharmaceuticals   Parsippany, New Jersey  2013-06-21   \n",
       " \n",
       "          CIK      Founded  \n",
       " 0      66740         1902  \n",
       " 1      91142         1916  \n",
       " 2       1800         1888  \n",
       " 3    1551152  2013 (1888)  \n",
       " 4    1467373         1989  \n",
       " ..       ...          ...  \n",
       " 498  1041061         1997  \n",
       " 499   877212         1969  \n",
       " 500  1136869         1927  \n",
       " 501   109380         1873  \n",
       " 502  1555280         1952  \n",
       " \n",
       " [503 rows x 8 columns],\n",
       "                   Date  Added                                Removed  \\\n",
       "                   Date Ticker                       Security  Ticker   \n",
       " 0    December 18, 2023   UBER                           Uber     SEE   \n",
       " 1    December 18, 2023    JBL                          Jabil     ALK   \n",
       " 2    December 18, 2023   BLDR           Builders FirstSource    SEDG   \n",
       " 3     October 18, 2023   HUBB                        Hubbell     OGN   \n",
       " 4     October 18, 2023   LULU            Lululemon Athletica    ATVI   \n",
       " ..                 ...    ...                            ...     ...   \n",
       " 333       June 9, 1999    WLP                      Wellpoint     HPH   \n",
       " 334  December 11, 1998    FSR                        Firstar     LDW   \n",
       " 335  December 11, 1998    CCL                 Carnival Corp.     GRN   \n",
       " 336  December 11, 1998   CPWR                      Compuware     SUN   \n",
       " 337      June 17, 1997    CCI  Countrywide Credit Industries     USL   \n",
       " \n",
       "                                \\\n",
       "                      Security   \n",
       " 0                  Sealed Air   \n",
       " 1            Alaska Air Group   \n",
       " 2                   SolarEdge   \n",
       " 3               Organon & Co.   \n",
       " 4         Activision Blizzard   \n",
       " ..                        ...   \n",
       " 333  Harnischfeger Industries   \n",
       " 334                     Amoco   \n",
       " 335                General Re   \n",
       " 336                SunAmerica   \n",
       " 337                    USLife   \n",
       " \n",
       "                                                 Reason  \n",
       "                                                 Reason  \n",
       " 0                     Market capitalization change.[4]  \n",
       " 1                     Market capitalization change.[4]  \n",
       " 2                     Market capitalization change.[4]  \n",
       " 3                     Market capitalization change.[5]  \n",
       " 4    S&P 500 and S&P 100 constituent Microsoft acqu...  \n",
       " ..                                                 ...  \n",
       " 333           Harnischfeger filed for bankruptcy.[252]  \n",
       " 334                           BP purchased Amoco.[253]  \n",
       " 335      Berkshire Hathaway purchased General Re.[253]  \n",
       " 336                     AIG purchased SunAmerica.[253]  \n",
       " 337                          AIG acquired USLife.[254]  \n",
       " \n",
       " [338 rows x 6 columns]]"
      ]
     },
     "execution_count": 16,
     "metadata": {},
     "output_type": "execute_result"
    }
   ],
   "source": [
    "from statsmodels.regression.rolling import RollingOLS\n",
    "import pandas_datareader.data as web\n",
    "import matplotlib.pyplot as plt\n",
    "import statsmodels.api as sm\n",
    "import pandas as pd\n",
    "import numpy as np\n",
    "import datetime as dt\n",
    "import yfinance as yf\n",
    "import pandas_ta\n",
    "import warnings\n",
    "warnings.filterwarnings('ignore')\n",
    "\n",
    "pd.read_html('https://en.wikipedia.org/wiki/List_of_S%26P_500_companies')"
   ]
  },
  {
   "cell_type": "code",
   "execution_count": null,
   "id": "e56b2bef-3b68-4d7f-9bae-280380e8375d",
   "metadata": {},
   "outputs": [],
   "source": []
  }
 ],
 "metadata": {
  "kernelspec": {
   "display_name": "Python 3 (ipykernel)",
   "language": "python",
   "name": "python3"
  },
  "language_info": {
   "codemirror_mode": {
    "name": "ipython",
    "version": 3
   },
   "file_extension": ".py",
   "mimetype": "text/x-python",
   "name": "python",
   "nbconvert_exporter": "python",
   "pygments_lexer": "ipython3",
   "version": "3.10.13"
  }
 },
 "nbformat": 4,
 "nbformat_minor": 5
}
